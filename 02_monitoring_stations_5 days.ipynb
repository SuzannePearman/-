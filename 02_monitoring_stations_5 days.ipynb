{
 "cells": [
  {
   "cell_type": "code",
   "execution_count": 1,
   "id": "1539e49a",
   "metadata": {},
   "outputs": [],
   "source": [
    "# Notebook 2Initi - plotting sites and looking at 5 days of data for my sites of interest"
   ]
  },
  {
   "cell_type": "code",
   "execution_count": 2,
   "id": "fde13c37",
   "metadata": {},
   "outputs": [],
   "source": [
    "########################################################\n",
    "# The EA publish daily data on https://environment.data.gov.uk/flood-monitoring/archive giving river levels about once every \n",
    "# couple of hours.  Each file is a huge dataset, so my first task will be to extract the data from each of the stations I am \n",
    "# interested in, ditch the rest and put them together into one dataframe lasting multiple days (possibly a month eventually?)\n",
    "# I will aim to start with the last 5 days of February.\n",
    "########################################################"
   ]
  },
  {
   "cell_type": "code",
   "execution_count": 3,
   "id": "8329bd72",
   "metadata": {},
   "outputs": [],
   "source": [
    "import pandas as pd     \n",
    "import numpy as np\n",
    "import requests "
   ]
  },
  {
   "cell_type": "code",
   "execution_count": 4,
   "id": "d7b9679b",
   "metadata": {},
   "outputs": [],
   "source": [
    "# The file has \"stationReference\" as the key field I can search on to tie back to the data I have, without searching on a url.\n",
    "# From above:\n",
    "#            ~ Cowley Bridge  = 45117\n",
    "#            ~ Upton Hellions = 45136\n",
    "#            ~ Yeoford        = 45137"
   ]
  },
  {
   "cell_type": "code",
   "execution_count": 5,
   "id": "e81844cb",
   "metadata": {},
   "outputs": [
    {
     "name": "stdout",
     "output_type": "stream",
     "text": [
      "<class 'pandas.core.frame.DataFrame'>\n",
      "RangeIndex: 412561 entries, 0 to 412560\n",
      "Data columns (total 13 columns):\n",
      " #   Column            Non-Null Count   Dtype \n",
      "---  ------            --------------   ----- \n",
      " 0   dateTime          412561 non-null  object\n",
      " 1   date              412561 non-null  object\n",
      " 2   measure           412561 non-null  object\n",
      " 3   station           412561 non-null  object\n",
      " 4   label             412561 non-null  object\n",
      " 5   stationReference  412561 non-null  object\n",
      " 6   parameter         412561 non-null  object\n",
      " 7   qualifier         400749 non-null  object\n",
      " 8   datumType         186952 non-null  object\n",
      " 9   period            412561 non-null  int64 \n",
      " 10  unitName          412561 non-null  object\n",
      " 11  valueType         412561 non-null  object\n",
      " 12  value             412559 non-null  object\n",
      "dtypes: int64(1), object(12)\n",
      "memory usage: 40.9+ MB\n"
     ]
    }
   ],
   "source": [
    "df20240229 = pd.read_csv(\"data/readings-full-2024-02-29.csv\") \n",
    "df20240229.head()\n",
    "df20240229.info()"
   ]
  },
  {
   "cell_type": "code",
   "execution_count": 6,
   "id": "ee3b6c5e",
   "metadata": {},
   "outputs": [
    {
     "name": "stdout",
     "output_type": "stream",
     "text": [
      "<class 'pandas.core.frame.DataFrame'>\n",
      "Index: 87 entries, 7783 to 408062\n",
      "Data columns (total 13 columns):\n",
      " #   Column            Non-Null Count  Dtype \n",
      "---  ------            --------------  ----- \n",
      " 0   dateTime          87 non-null     object\n",
      " 1   date              87 non-null     object\n",
      " 2   measure           87 non-null     object\n",
      " 3   station           87 non-null     object\n",
      " 4   label             87 non-null     object\n",
      " 5   stationReference  87 non-null     object\n",
      " 6   parameter         87 non-null     object\n",
      " 7   qualifier         87 non-null     object\n",
      " 8   datumType         0 non-null      object\n",
      " 9   period            87 non-null     int64 \n",
      " 10  unitName          87 non-null     object\n",
      " 11  valueType         87 non-null     object\n",
      " 12  value             87 non-null     object\n",
      "dtypes: int64(1), object(12)\n",
      "memory usage: 9.5+ KB\n"
     ]
    }
   ],
   "source": [
    "mask_for_cowley = df20240229[\"stationReference\"] == \"45117\"\n",
    "dfcowley = df20240229[mask_for_cowley]\n",
    "dfcowley.info()"
   ]
  },
  {
   "cell_type": "code",
   "execution_count": 7,
   "id": "4bca0fe9",
   "metadata": {},
   "outputs": [
    {
     "name": "stdout",
     "output_type": "stream",
     "text": [
      "<class 'pandas.core.frame.DataFrame'>\n",
      "Index: 65 entries, 61086 to 293314\n",
      "Data columns (total 13 columns):\n",
      " #   Column            Non-Null Count  Dtype \n",
      "---  ------            --------------  ----- \n",
      " 0   dateTime          65 non-null     object\n",
      " 1   date              65 non-null     object\n",
      " 2   measure           65 non-null     object\n",
      " 3   station           65 non-null     object\n",
      " 4   label             65 non-null     object\n",
      " 5   stationReference  65 non-null     object\n",
      " 6   parameter         65 non-null     object\n",
      " 7   qualifier         65 non-null     object\n",
      " 8   datumType         0 non-null      object\n",
      " 9   period            65 non-null     int64 \n",
      " 10  unitName          65 non-null     object\n",
      " 11  valueType         65 non-null     object\n",
      " 12  value             65 non-null     object\n",
      "dtypes: int64(1), object(12)\n",
      "memory usage: 7.1+ KB\n"
     ]
    }
   ],
   "source": [
    "mask_for_upton = df20240229[\"stationReference\"] == \"45136\"\n",
    "dfupton = df20240229[mask_for_upton]\n",
    "dfupton.info()"
   ]
  },
  {
   "cell_type": "code",
   "execution_count": 8,
   "id": "bdcaf49d",
   "metadata": {},
   "outputs": [
    {
     "name": "stdout",
     "output_type": "stream",
     "text": [
      "<class 'pandas.core.frame.DataFrame'>\n",
      "Index: 65 entries, 63726 to 293283\n",
      "Data columns (total 13 columns):\n",
      " #   Column            Non-Null Count  Dtype \n",
      "---  ------            --------------  ----- \n",
      " 0   dateTime          65 non-null     object\n",
      " 1   date              65 non-null     object\n",
      " 2   measure           65 non-null     object\n",
      " 3   station           65 non-null     object\n",
      " 4   label             65 non-null     object\n",
      " 5   stationReference  65 non-null     object\n",
      " 6   parameter         65 non-null     object\n",
      " 7   qualifier         65 non-null     object\n",
      " 8   datumType         0 non-null      object\n",
      " 9   period            65 non-null     int64 \n",
      " 10  unitName          65 non-null     object\n",
      " 11  valueType         65 non-null     object\n",
      " 12  value             65 non-null     object\n",
      "dtypes: int64(1), object(12)\n",
      "memory usage: 7.1+ KB\n"
     ]
    }
   ],
   "source": [
    "mask_for_yeoford = df20240229[\"stationReference\"] == \"45137\"\n",
    "dfyeoford = df20240229[mask_for_yeoford]\n",
    "dfyeoford.info()"
   ]
  },
  {
   "cell_type": "code",
   "execution_count": 9,
   "id": "11473d35",
   "metadata": {},
   "outputs": [
    {
     "name": "stdout",
     "output_type": "stream",
     "text": [
      "<class 'pandas.core.frame.DataFrame'>\n",
      "Index: 217 entries, 7783 to 293283\n",
      "Data columns (total 13 columns):\n",
      " #   Column            Non-Null Count  Dtype \n",
      "---  ------            --------------  ----- \n",
      " 0   dateTime          217 non-null    object\n",
      " 1   date              217 non-null    object\n",
      " 2   measure           217 non-null    object\n",
      " 3   station           217 non-null    object\n",
      " 4   label             217 non-null    object\n",
      " 5   stationReference  217 non-null    object\n",
      " 6   parameter         217 non-null    object\n",
      " 7   qualifier         217 non-null    object\n",
      " 8   datumType         0 non-null      object\n",
      " 9   period            217 non-null    int64 \n",
      " 10  unitName          217 non-null    object\n",
      " 11  valueType         217 non-null    object\n",
      " 12  value             217 non-null    object\n",
      "dtypes: int64(1), object(12)\n",
      "memory usage: 23.7+ KB\n"
     ]
    }
   ],
   "source": [
    "# So I've extracted the lines I want, for ease of cleansing I need to put them back together again into a new dataframe\n",
    "df29 = pd.concat([dfcowley, dfupton, dfyeoford], axis = 0)\n",
    "df29.info()                                                          # df29 is just the data from 29th February 2024"
   ]
  },
  {
   "cell_type": "code",
   "execution_count": 10,
   "id": "721c4b79",
   "metadata": {},
   "outputs": [],
   "source": [
    "# Success!  I now have one day's worth of data...\n",
    "# Chopping out each day individually seems laboured, when handling more I will create a better way of doing this, but for now\n",
    "# I only want five days to play with so lets stick with this."
   ]
  },
  {
   "cell_type": "code",
   "execution_count": 11,
   "id": "dba927dc",
   "metadata": {},
   "outputs": [
    {
     "name": "stdout",
     "output_type": "stream",
     "text": [
      "<class 'pandas.core.frame.DataFrame'>\n",
      "Index: 210 entries, 11282 to 288119\n",
      "Data columns (total 13 columns):\n",
      " #   Column            Non-Null Count  Dtype \n",
      "---  ------            --------------  ----- \n",
      " 0   dateTime          210 non-null    object\n",
      " 1   date              210 non-null    object\n",
      " 2   measure           210 non-null    object\n",
      " 3   station           210 non-null    object\n",
      " 4   label             210 non-null    object\n",
      " 5   stationReference  210 non-null    object\n",
      " 6   parameter         210 non-null    object\n",
      " 7   qualifier         210 non-null    object\n",
      " 8   datumType         0 non-null      object\n",
      " 9   period            210 non-null    int64 \n",
      " 10  unitName          210 non-null    object\n",
      " 11  valueType         210 non-null    object\n",
      " 12  value             210 non-null    object\n",
      "dtypes: int64(1), object(12)\n",
      "memory usage: 23.0+ KB\n"
     ]
    }
   ],
   "source": [
    "df20240228 = pd.read_csv(\"data/readings-full-2024-02-28.csv\") \n",
    "mask_for_cowley = df20240228[\"stationReference\"] == \"45117\"\n",
    "dfcowley = df20240228[mask_for_cowley]\n",
    "mask_for_upton = df20240228[\"stationReference\"] == \"45136\"\n",
    "dfupton = df20240228[mask_for_upton]\n",
    "mask_for_yeoford = df20240228[\"stationReference\"] == \"45137\"\n",
    "dfyeoford = df20240228[mask_for_yeoford]\n",
    "df28 = pd.concat([dfcowley, dfupton, dfyeoford], axis = 0)\n",
    "df28.info()"
   ]
  },
  {
   "cell_type": "code",
   "execution_count": 12,
   "id": "7c7d2b6a",
   "metadata": {},
   "outputs": [
    {
     "name": "stdout",
     "output_type": "stream",
     "text": [
      "<class 'pandas.core.frame.DataFrame'>\n",
      "Index: 219 entries, 11257 to 287429\n",
      "Data columns (total 13 columns):\n",
      " #   Column            Non-Null Count  Dtype \n",
      "---  ------            --------------  ----- \n",
      " 0   dateTime          219 non-null    object\n",
      " 1   date              219 non-null    object\n",
      " 2   measure           219 non-null    object\n",
      " 3   station           219 non-null    object\n",
      " 4   label             219 non-null    object\n",
      " 5   stationReference  219 non-null    object\n",
      " 6   parameter         219 non-null    object\n",
      " 7   qualifier         219 non-null    object\n",
      " 8   datumType         0 non-null      object\n",
      " 9   period            219 non-null    int64 \n",
      " 10  unitName          219 non-null    object\n",
      " 11  valueType         219 non-null    object\n",
      " 12  value             219 non-null    object\n",
      "dtypes: int64(1), object(12)\n",
      "memory usage: 24.0+ KB\n"
     ]
    }
   ],
   "source": [
    "df20240227 = pd.read_csv(\"data/readings-full-2024-02-27.csv\") \n",
    "mask_for_cowley = df20240227[\"stationReference\"] == \"45117\"\n",
    "dfcowley = df20240227[mask_for_cowley]\n",
    "mask_for_upton = df20240227[\"stationReference\"] == \"45136\"\n",
    "dfupton = df20240227[mask_for_upton]\n",
    "mask_for_yeoford = df20240227[\"stationReference\"] == \"45137\"\n",
    "dfyeoford = df20240227[mask_for_yeoford]\n",
    "df27 = pd.concat([dfcowley, dfupton, dfyeoford], axis = 0)\n",
    "df27.info()"
   ]
  },
  {
   "cell_type": "code",
   "execution_count": 13,
   "id": "500cd281",
   "metadata": {},
   "outputs": [
    {
     "name": "stdout",
     "output_type": "stream",
     "text": [
      "<class 'pandas.core.frame.DataFrame'>\n",
      "Index: 41 entries, 11496 to 55175\n",
      "Data columns (total 13 columns):\n",
      " #   Column            Non-Null Count  Dtype  \n",
      "---  ------            --------------  -----  \n",
      " 0   dateTime          41 non-null     object \n",
      " 1   date              41 non-null     object \n",
      " 2   measure           41 non-null     object \n",
      " 3   station           41 non-null     object \n",
      " 4   label             41 non-null     object \n",
      " 5   stationReference  41 non-null     object \n",
      " 6   parameter         41 non-null     object \n",
      " 7   qualifier         41 non-null     object \n",
      " 8   datumType         0 non-null      object \n",
      " 9   period            41 non-null     float64\n",
      " 10  unitName          41 non-null     object \n",
      " 11  valueType         41 non-null     object \n",
      " 12  value             41 non-null     object \n",
      "dtypes: float64(1), object(12)\n",
      "memory usage: 4.5+ KB\n"
     ]
    }
   ],
   "source": [
    "df20240226 = pd.read_csv(\"data/readings-full-2024-02-26.csv\") \n",
    "mask_for_cowley = df20240226[\"stationReference\"] == \"45117\"\n",
    "dfcowley = df20240226[mask_for_cowley]\n",
    "mask_for_upton = df20240226[\"stationReference\"] == \"45136\"\n",
    "dfupton = df20240226[mask_for_upton]\n",
    "mask_for_yeoford = df20240226[\"stationReference\"] == \"45137\"\n",
    "dfyeoford = df20240226[mask_for_yeoford]\n",
    "df26 = pd.concat([dfcowley, dfupton, dfyeoford], axis = 0)\n",
    "df26.info()"
   ]
  },
  {
   "cell_type": "code",
   "execution_count": 14,
   "id": "7657673b",
   "metadata": {},
   "outputs": [
    {
     "name": "stdout",
     "output_type": "stream",
     "text": [
      "<class 'pandas.core.frame.DataFrame'>\n",
      "Index: 8 entries, 11294 to 29668\n",
      "Data columns (total 13 columns):\n",
      " #   Column            Non-Null Count  Dtype  \n",
      "---  ------            --------------  -----  \n",
      " 0   dateTime          8 non-null      object \n",
      " 1   date              8 non-null      object \n",
      " 2   measure           8 non-null      object \n",
      " 3   station           8 non-null      object \n",
      " 4   label             8 non-null      object \n",
      " 5   stationReference  8 non-null      object \n",
      " 6   parameter         8 non-null      object \n",
      " 7   qualifier         8 non-null      object \n",
      " 8   datumType         0 non-null      object \n",
      " 9   period            8 non-null      float64\n",
      " 10  unitName          8 non-null      object \n",
      " 11  valueType         8 non-null      object \n",
      " 12  value             8 non-null      object \n",
      "dtypes: float64(1), object(12)\n",
      "memory usage: 896.0+ bytes\n"
     ]
    }
   ],
   "source": [
    "df20240225 = pd.read_csv(\"data/readings-full-2024-02-25.csv\") \n",
    "mask_for_cowley = df20240225[\"stationReference\"] == \"45117\"\n",
    "dfcowley = df20240225[mask_for_cowley]\n",
    "mask_for_upton = df20240225[\"stationReference\"] == \"45136\"\n",
    "dfupton = df20240225[mask_for_upton]\n",
    "mask_for_yeoford = df20240225[\"stationReference\"] == \"45137\"\n",
    "dfyeoford = df20240225[mask_for_yeoford]\n",
    "df25 = pd.concat([dfcowley, dfupton, dfyeoford], axis = 0)\n",
    "df25.info()"
   ]
  },
  {
   "cell_type": "code",
   "execution_count": 15,
   "id": "5ff7fe79",
   "metadata": {},
   "outputs": [
    {
     "name": "stdout",
     "output_type": "stream",
     "text": [
      "<class 'pandas.core.frame.DataFrame'>\n",
      "Index: 695 entries, 11294 to 293283\n",
      "Data columns (total 13 columns):\n",
      " #   Column            Non-Null Count  Dtype  \n",
      "---  ------            --------------  -----  \n",
      " 0   dateTime          695 non-null    object \n",
      " 1   date              695 non-null    object \n",
      " 2   measure           695 non-null    object \n",
      " 3   station           695 non-null    object \n",
      " 4   label             695 non-null    object \n",
      " 5   stationReference  695 non-null    object \n",
      " 6   parameter         695 non-null    object \n",
      " 7   qualifier         695 non-null    object \n",
      " 8   datumType         0 non-null      object \n",
      " 9   period            695 non-null    float64\n",
      " 10  unitName          695 non-null    object \n",
      " 11  valueType         695 non-null    object \n",
      " 12  value             695 non-null    object \n",
      "dtypes: float64(1), object(12)\n",
      "memory usage: 76.0+ KB\n"
     ]
    }
   ],
   "source": [
    "# so having extracted just the data I want into a dataframe for each individual date I will combine the 5 days worth of data all\n",
    "# all into one dataframe to work with further.\n",
    "df25_29 = pd.concat([df25, df26, df27, df28, df29], axis = 0)\n",
    "df25_29.info()\n",
    "# success, I have all columns with no nulls except datumType, that is null for all of them."
   ]
  },
  {
   "cell_type": "code",
   "execution_count": 16,
   "id": "1adf2d79",
   "metadata": {},
   "outputs": [
    {
     "data": {
      "text/html": [
       "<div>\n",
       "<style scoped>\n",
       "    .dataframe tbody tr th:only-of-type {\n",
       "        vertical-align: middle;\n",
       "    }\n",
       "\n",
       "    .dataframe tbody tr th {\n",
       "        vertical-align: top;\n",
       "    }\n",
       "\n",
       "    .dataframe thead th {\n",
       "        text-align: right;\n",
       "    }\n",
       "</style>\n",
       "<table border=\"1\" class=\"dataframe\">\n",
       "  <thead>\n",
       "    <tr style=\"text-align: right;\">\n",
       "      <th></th>\n",
       "      <th>dateTime</th>\n",
       "      <th>date</th>\n",
       "      <th>measure</th>\n",
       "      <th>station</th>\n",
       "      <th>label</th>\n",
       "      <th>stationReference</th>\n",
       "      <th>parameter</th>\n",
       "      <th>qualifier</th>\n",
       "      <th>datumType</th>\n",
       "      <th>period</th>\n",
       "      <th>unitName</th>\n",
       "      <th>valueType</th>\n",
       "      <th>value</th>\n",
       "    </tr>\n",
       "  </thead>\n",
       "  <tbody>\n",
       "    <tr>\n",
       "      <th>293166</th>\n",
       "      <td>2024-02-29T04:45:00Z</td>\n",
       "      <td>2024-02-29</td>\n",
       "      <td>http://environment.data.gov.uk/flood-monitorin...</td>\n",
       "      <td>http://environment.data.gov.uk/flood-monitorin...</td>\n",
       "      <td>Yeoford</td>\n",
       "      <td>45137</td>\n",
       "      <td>level</td>\n",
       "      <td>Stage</td>\n",
       "      <td>NaN</td>\n",
       "      <td>900.0</td>\n",
       "      <td>m</td>\n",
       "      <td>instantaneous</td>\n",
       "      <td>0.583</td>\n",
       "    </tr>\n",
       "    <tr>\n",
       "      <th>293283</th>\n",
       "      <td>2024-02-29T06:00:00Z</td>\n",
       "      <td>2024-02-29</td>\n",
       "      <td>http://environment.data.gov.uk/flood-monitorin...</td>\n",
       "      <td>http://environment.data.gov.uk/flood-monitorin...</td>\n",
       "      <td>Yeoford</td>\n",
       "      <td>45137</td>\n",
       "      <td>level</td>\n",
       "      <td>Stage</td>\n",
       "      <td>NaN</td>\n",
       "      <td>900.0</td>\n",
       "      <td>m</td>\n",
       "      <td>instantaneous</td>\n",
       "      <td>0.584</td>\n",
       "    </tr>\n",
       "  </tbody>\n",
       "</table>\n",
       "</div>"
      ],
      "text/plain": [
       "                    dateTime        date  \\\n",
       "293166  2024-02-29T04:45:00Z  2024-02-29   \n",
       "293283  2024-02-29T06:00:00Z  2024-02-29   \n",
       "\n",
       "                                                  measure  \\\n",
       "293166  http://environment.data.gov.uk/flood-monitorin...   \n",
       "293283  http://environment.data.gov.uk/flood-monitorin...   \n",
       "\n",
       "                                                  station    label  \\\n",
       "293166  http://environment.data.gov.uk/flood-monitorin...  Yeoford   \n",
       "293283  http://environment.data.gov.uk/flood-monitorin...  Yeoford   \n",
       "\n",
       "       stationReference parameter qualifier datumType  period unitName  \\\n",
       "293166            45137     level     Stage       NaN   900.0        m   \n",
       "293283            45137     level     Stage       NaN   900.0        m   \n",
       "\n",
       "            valueType  value  \n",
       "293166  instantaneous  0.583  \n",
       "293283  instantaneous  0.584  "
      ]
     },
     "execution_count": 16,
     "metadata": {},
     "output_type": "execute_result"
    }
   ],
   "source": [
    "df25_29.tail(2)   # just looking at my data"
   ]
  },
  {
   "cell_type": "code",
   "execution_count": 17,
   "id": "b849c6c8",
   "metadata": {},
   "outputs": [
    {
     "data": {
      "text/plain": [
       "valueType\n",
       "instantaneous    695\n",
       "Name: count, dtype: int64"
      ]
     },
     "execution_count": 17,
     "metadata": {},
     "output_type": "execute_result"
    }
   ],
   "source": [
    "# looking at the substance of individual fields.  Here \"valueType\"\n",
    "df25_29[\"valueType\"].value_counts()"
   ]
  },
  {
   "cell_type": "code",
   "execution_count": 18,
   "id": "e6f7df09",
   "metadata": {},
   "outputs": [
    {
     "data": {
      "text/plain": [
       "unitName\n",
       "m    695\n",
       "Name: count, dtype: int64"
      ]
     },
     "execution_count": 18,
     "metadata": {},
     "output_type": "execute_result"
    }
   ],
   "source": [
    "df25_29[\"unitName\"].value_counts()"
   ]
  },
  {
   "cell_type": "code",
   "execution_count": 19,
   "id": "1ccb5060",
   "metadata": {},
   "outputs": [],
   "source": [
    "# Good news, all my values are instantaneous and measured in meters, this is a feature of the equipment so can be ignored\n",
    "# the only columns I should actually need are dateTime, label (probably for human reference only), stationReference, value\n",
    "# could index on stationReference and dateTime, or could leave alone... for thought!"
   ]
  },
  {
   "cell_type": "code",
   "execution_count": 20,
   "id": "7ffeedbc",
   "metadata": {},
   "outputs": [
    {
     "data": {
      "text/html": [
       "<div>\n",
       "<style scoped>\n",
       "    .dataframe tbody tr th:only-of-type {\n",
       "        vertical-align: middle;\n",
       "    }\n",
       "\n",
       "    .dataframe tbody tr th {\n",
       "        vertical-align: top;\n",
       "    }\n",
       "\n",
       "    .dataframe thead th {\n",
       "        text-align: right;\n",
       "    }\n",
       "</style>\n",
       "<table border=\"1\" class=\"dataframe\">\n",
       "  <thead>\n",
       "    <tr style=\"text-align: right;\">\n",
       "      <th></th>\n",
       "      <th>dateTime</th>\n",
       "      <th>date</th>\n",
       "      <th>label</th>\n",
       "      <th>stationReference</th>\n",
       "      <th>value</th>\n",
       "    </tr>\n",
       "  </thead>\n",
       "  <tbody>\n",
       "    <tr>\n",
       "      <th>11294</th>\n",
       "      <td>2024-02-25T00:45:00Z</td>\n",
       "      <td>2024-02-25</td>\n",
       "      <td>Cowley Bridge</td>\n",
       "      <td>45117</td>\n",
       "      <td>0.993</td>\n",
       "    </tr>\n",
       "    <tr>\n",
       "      <th>14213</th>\n",
       "      <td>2024-02-25T00:15:00Z</td>\n",
       "      <td>2024-02-25</td>\n",
       "      <td>Cowley Bridge</td>\n",
       "      <td>45117</td>\n",
       "      <td>0.999</td>\n",
       "    </tr>\n",
       "    <tr>\n",
       "      <th>14236</th>\n",
       "      <td>2024-02-25T00:30:00Z</td>\n",
       "      <td>2024-02-25</td>\n",
       "      <td>Cowley Bridge</td>\n",
       "      <td>45117</td>\n",
       "      <td>0.996</td>\n",
       "    </tr>\n",
       "    <tr>\n",
       "      <th>14327</th>\n",
       "      <td>2024-02-25T00:00:00Z</td>\n",
       "      <td>2024-02-25</td>\n",
       "      <td>Cowley Bridge</td>\n",
       "      <td>45117</td>\n",
       "      <td>1.001</td>\n",
       "    </tr>\n",
       "    <tr>\n",
       "      <th>26614</th>\n",
       "      <td>2024-02-25T01:45:00Z</td>\n",
       "      <td>2024-02-25</td>\n",
       "      <td>Cowley Bridge</td>\n",
       "      <td>45117</td>\n",
       "      <td>0.983</td>\n",
       "    </tr>\n",
       "  </tbody>\n",
       "</table>\n",
       "</div>"
      ],
      "text/plain": [
       "                   dateTime        date          label stationReference  value\n",
       "11294  2024-02-25T00:45:00Z  2024-02-25  Cowley Bridge            45117  0.993\n",
       "14213  2024-02-25T00:15:00Z  2024-02-25  Cowley Bridge            45117  0.999\n",
       "14236  2024-02-25T00:30:00Z  2024-02-25  Cowley Bridge            45117  0.996\n",
       "14327  2024-02-25T00:00:00Z  2024-02-25  Cowley Bridge            45117  1.001\n",
       "26614  2024-02-25T01:45:00Z  2024-02-25  Cowley Bridge            45117  0.983"
      ]
     },
     "execution_count": 20,
     "metadata": {},
     "output_type": "execute_result"
    }
   ],
   "source": [
    "df25_29short = df25_29[[\"dateTime\", \"date\", \"label\", \"stationReference\", \"value\"]].copy()\n",
    "df25_29short.head()"
   ]
  },
  {
   "cell_type": "code",
   "execution_count": 21,
   "id": "11788769",
   "metadata": {},
   "outputs": [],
   "source": [
    "# I probably need to do something with chopping about the date to split out the time from the dateTime field.\n",
    "# Even if it isn't ultimately necessary, it is useful practise for referencing parts of a string within a dataframe and I need\n",
    "# that!"
   ]
  },
  {
   "cell_type": "code",
   "execution_count": 22,
   "id": "f24dc853",
   "metadata": {},
   "outputs": [
    {
     "data": {
      "text/html": [
       "<div>\n",
       "<style scoped>\n",
       "    .dataframe tbody tr th:only-of-type {\n",
       "        vertical-align: middle;\n",
       "    }\n",
       "\n",
       "    .dataframe tbody tr th {\n",
       "        vertical-align: top;\n",
       "    }\n",
       "\n",
       "    .dataframe thead th {\n",
       "        text-align: right;\n",
       "    }\n",
       "</style>\n",
       "<table border=\"1\" class=\"dataframe\">\n",
       "  <thead>\n",
       "    <tr style=\"text-align: right;\">\n",
       "      <th></th>\n",
       "      <th>dateTime</th>\n",
       "      <th>date</th>\n",
       "      <th>label</th>\n",
       "      <th>stationReference</th>\n",
       "      <th>value</th>\n",
       "      <th>hours</th>\n",
       "    </tr>\n",
       "  </thead>\n",
       "  <tbody>\n",
       "    <tr>\n",
       "      <th>11294</th>\n",
       "      <td>2024-02-25T00:45:00Z</td>\n",
       "      <td>2024-02-25</td>\n",
       "      <td>Cowley Bridge</td>\n",
       "      <td>45117</td>\n",
       "      <td>0.993</td>\n",
       "      <td>00</td>\n",
       "    </tr>\n",
       "    <tr>\n",
       "      <th>14213</th>\n",
       "      <td>2024-02-25T00:15:00Z</td>\n",
       "      <td>2024-02-25</td>\n",
       "      <td>Cowley Bridge</td>\n",
       "      <td>45117</td>\n",
       "      <td>0.999</td>\n",
       "      <td>00</td>\n",
       "    </tr>\n",
       "    <tr>\n",
       "      <th>14236</th>\n",
       "      <td>2024-02-25T00:30:00Z</td>\n",
       "      <td>2024-02-25</td>\n",
       "      <td>Cowley Bridge</td>\n",
       "      <td>45117</td>\n",
       "      <td>0.996</td>\n",
       "      <td>00</td>\n",
       "    </tr>\n",
       "    <tr>\n",
       "      <th>14327</th>\n",
       "      <td>2024-02-25T00:00:00Z</td>\n",
       "      <td>2024-02-25</td>\n",
       "      <td>Cowley Bridge</td>\n",
       "      <td>45117</td>\n",
       "      <td>1.001</td>\n",
       "      <td>00</td>\n",
       "    </tr>\n",
       "    <tr>\n",
       "      <th>26614</th>\n",
       "      <td>2024-02-25T01:45:00Z</td>\n",
       "      <td>2024-02-25</td>\n",
       "      <td>Cowley Bridge</td>\n",
       "      <td>45117</td>\n",
       "      <td>0.983</td>\n",
       "      <td>01</td>\n",
       "    </tr>\n",
       "  </tbody>\n",
       "</table>\n",
       "</div>"
      ],
      "text/plain": [
       "                   dateTime        date          label stationReference  \\\n",
       "11294  2024-02-25T00:45:00Z  2024-02-25  Cowley Bridge            45117   \n",
       "14213  2024-02-25T00:15:00Z  2024-02-25  Cowley Bridge            45117   \n",
       "14236  2024-02-25T00:30:00Z  2024-02-25  Cowley Bridge            45117   \n",
       "14327  2024-02-25T00:00:00Z  2024-02-25  Cowley Bridge            45117   \n",
       "26614  2024-02-25T01:45:00Z  2024-02-25  Cowley Bridge            45117   \n",
       "\n",
       "       value hours  \n",
       "11294  0.993    00  \n",
       "14213  0.999    00  \n",
       "14236  0.996    00  \n",
       "14327  1.001    00  \n",
       "26614  0.983    01  "
      ]
     },
     "execution_count": 22,
     "metadata": {},
     "output_type": "execute_result"
    }
   ],
   "source": [
    "df25_29short[\"hours\"] = df25_29short[\"dateTime\"].str[-9:-7]\n",
    "df25_29short.head()"
   ]
  },
  {
   "cell_type": "code",
   "execution_count": 23,
   "id": "da811afe",
   "metadata": {},
   "outputs": [
    {
     "data": {
      "text/html": [
       "<div>\n",
       "<style scoped>\n",
       "    .dataframe tbody tr th:only-of-type {\n",
       "        vertical-align: middle;\n",
       "    }\n",
       "\n",
       "    .dataframe tbody tr th {\n",
       "        vertical-align: top;\n",
       "    }\n",
       "\n",
       "    .dataframe thead th {\n",
       "        text-align: right;\n",
       "    }\n",
       "</style>\n",
       "<table border=\"1\" class=\"dataframe\">\n",
       "  <thead>\n",
       "    <tr style=\"text-align: right;\">\n",
       "      <th></th>\n",
       "      <th>dateTime</th>\n",
       "      <th>date</th>\n",
       "      <th>label</th>\n",
       "      <th>stationReference</th>\n",
       "      <th>value</th>\n",
       "      <th>hours</th>\n",
       "      <th>minutes</th>\n",
       "    </tr>\n",
       "  </thead>\n",
       "  <tbody>\n",
       "    <tr>\n",
       "      <th>11294</th>\n",
       "      <td>2024-02-25T00:45:00Z</td>\n",
       "      <td>2024-02-25</td>\n",
       "      <td>Cowley Bridge</td>\n",
       "      <td>45117</td>\n",
       "      <td>0.993</td>\n",
       "      <td>00</td>\n",
       "      <td>45</td>\n",
       "    </tr>\n",
       "    <tr>\n",
       "      <th>14213</th>\n",
       "      <td>2024-02-25T00:15:00Z</td>\n",
       "      <td>2024-02-25</td>\n",
       "      <td>Cowley Bridge</td>\n",
       "      <td>45117</td>\n",
       "      <td>0.999</td>\n",
       "      <td>00</td>\n",
       "      <td>15</td>\n",
       "    </tr>\n",
       "    <tr>\n",
       "      <th>14236</th>\n",
       "      <td>2024-02-25T00:30:00Z</td>\n",
       "      <td>2024-02-25</td>\n",
       "      <td>Cowley Bridge</td>\n",
       "      <td>45117</td>\n",
       "      <td>0.996</td>\n",
       "      <td>00</td>\n",
       "      <td>30</td>\n",
       "    </tr>\n",
       "    <tr>\n",
       "      <th>14327</th>\n",
       "      <td>2024-02-25T00:00:00Z</td>\n",
       "      <td>2024-02-25</td>\n",
       "      <td>Cowley Bridge</td>\n",
       "      <td>45117</td>\n",
       "      <td>1.001</td>\n",
       "      <td>00</td>\n",
       "      <td>00</td>\n",
       "    </tr>\n",
       "    <tr>\n",
       "      <th>26614</th>\n",
       "      <td>2024-02-25T01:45:00Z</td>\n",
       "      <td>2024-02-25</td>\n",
       "      <td>Cowley Bridge</td>\n",
       "      <td>45117</td>\n",
       "      <td>0.983</td>\n",
       "      <td>01</td>\n",
       "      <td>45</td>\n",
       "    </tr>\n",
       "  </tbody>\n",
       "</table>\n",
       "</div>"
      ],
      "text/plain": [
       "                   dateTime        date          label stationReference  \\\n",
       "11294  2024-02-25T00:45:00Z  2024-02-25  Cowley Bridge            45117   \n",
       "14213  2024-02-25T00:15:00Z  2024-02-25  Cowley Bridge            45117   \n",
       "14236  2024-02-25T00:30:00Z  2024-02-25  Cowley Bridge            45117   \n",
       "14327  2024-02-25T00:00:00Z  2024-02-25  Cowley Bridge            45117   \n",
       "26614  2024-02-25T01:45:00Z  2024-02-25  Cowley Bridge            45117   \n",
       "\n",
       "       value hours minutes  \n",
       "11294  0.993    00      45  \n",
       "14213  0.999    00      15  \n",
       "14236  0.996    00      30  \n",
       "14327  1.001    00      00  \n",
       "26614  0.983    01      45  "
      ]
     },
     "execution_count": 23,
     "metadata": {},
     "output_type": "execute_result"
    }
   ],
   "source": [
    "df25_29short[\"minutes\"] = df25_29short[\"dateTime\"].str[-6:-4]\n",
    "df25_29short.head()"
   ]
  },
  {
   "cell_type": "code",
   "execution_count": 24,
   "id": "bb342484",
   "metadata": {},
   "outputs": [
    {
     "data": {
      "text/html": [
       "<div>\n",
       "<style scoped>\n",
       "    .dataframe tbody tr th:only-of-type {\n",
       "        vertical-align: middle;\n",
       "    }\n",
       "\n",
       "    .dataframe tbody tr th {\n",
       "        vertical-align: top;\n",
       "    }\n",
       "\n",
       "    .dataframe thead th {\n",
       "        text-align: right;\n",
       "    }\n",
       "</style>\n",
       "<table border=\"1\" class=\"dataframe\">\n",
       "  <thead>\n",
       "    <tr style=\"text-align: right;\">\n",
       "      <th></th>\n",
       "      <th>dateTime</th>\n",
       "      <th>date</th>\n",
       "      <th>label</th>\n",
       "      <th>stationReference</th>\n",
       "      <th>value</th>\n",
       "      <th>hours</th>\n",
       "      <th>minutes</th>\n",
       "      <th>time</th>\n",
       "    </tr>\n",
       "  </thead>\n",
       "  <tbody>\n",
       "    <tr>\n",
       "      <th>11294</th>\n",
       "      <td>2024-02-25T00:45:00Z</td>\n",
       "      <td>2024-02-25</td>\n",
       "      <td>Cowley Bridge</td>\n",
       "      <td>45117</td>\n",
       "      <td>0.993</td>\n",
       "      <td>00</td>\n",
       "      <td>45</td>\n",
       "      <td>0045</td>\n",
       "    </tr>\n",
       "    <tr>\n",
       "      <th>14213</th>\n",
       "      <td>2024-02-25T00:15:00Z</td>\n",
       "      <td>2024-02-25</td>\n",
       "      <td>Cowley Bridge</td>\n",
       "      <td>45117</td>\n",
       "      <td>0.999</td>\n",
       "      <td>00</td>\n",
       "      <td>15</td>\n",
       "      <td>0015</td>\n",
       "    </tr>\n",
       "    <tr>\n",
       "      <th>14236</th>\n",
       "      <td>2024-02-25T00:30:00Z</td>\n",
       "      <td>2024-02-25</td>\n",
       "      <td>Cowley Bridge</td>\n",
       "      <td>45117</td>\n",
       "      <td>0.996</td>\n",
       "      <td>00</td>\n",
       "      <td>30</td>\n",
       "      <td>0030</td>\n",
       "    </tr>\n",
       "    <tr>\n",
       "      <th>14327</th>\n",
       "      <td>2024-02-25T00:00:00Z</td>\n",
       "      <td>2024-02-25</td>\n",
       "      <td>Cowley Bridge</td>\n",
       "      <td>45117</td>\n",
       "      <td>1.001</td>\n",
       "      <td>00</td>\n",
       "      <td>00</td>\n",
       "      <td>0000</td>\n",
       "    </tr>\n",
       "    <tr>\n",
       "      <th>26614</th>\n",
       "      <td>2024-02-25T01:45:00Z</td>\n",
       "      <td>2024-02-25</td>\n",
       "      <td>Cowley Bridge</td>\n",
       "      <td>45117</td>\n",
       "      <td>0.983</td>\n",
       "      <td>01</td>\n",
       "      <td>45</td>\n",
       "      <td>0145</td>\n",
       "    </tr>\n",
       "  </tbody>\n",
       "</table>\n",
       "</div>"
      ],
      "text/plain": [
       "                   dateTime        date          label stationReference  \\\n",
       "11294  2024-02-25T00:45:00Z  2024-02-25  Cowley Bridge            45117   \n",
       "14213  2024-02-25T00:15:00Z  2024-02-25  Cowley Bridge            45117   \n",
       "14236  2024-02-25T00:30:00Z  2024-02-25  Cowley Bridge            45117   \n",
       "14327  2024-02-25T00:00:00Z  2024-02-25  Cowley Bridge            45117   \n",
       "26614  2024-02-25T01:45:00Z  2024-02-25  Cowley Bridge            45117   \n",
       "\n",
       "       value hours minutes  time  \n",
       "11294  0.993    00      45  0045  \n",
       "14213  0.999    00      15  0015  \n",
       "14236  0.996    00      30  0030  \n",
       "14327  1.001    00      00  0000  \n",
       "26614  0.983    01      45  0145  "
      ]
     },
     "execution_count": 24,
     "metadata": {},
     "output_type": "execute_result"
    }
   ],
   "source": [
    "df25_29short[\"time\"] = (df25_29short[\"hours\"])+(df25_29short[\"minutes\"])\n",
    "df25_29short.head()"
   ]
  },
  {
   "cell_type": "code",
   "execution_count": 25,
   "id": "51b1a5fb",
   "metadata": {},
   "outputs": [
    {
     "name": "stdout",
     "output_type": "stream",
     "text": [
      "<class 'pandas.core.frame.DataFrame'>\n",
      "Index: 695 entries, 11294 to 293283\n",
      "Data columns (total 8 columns):\n",
      " #   Column            Non-Null Count  Dtype \n",
      "---  ------            --------------  ----- \n",
      " 0   dateTime          695 non-null    object\n",
      " 1   date              695 non-null    object\n",
      " 2   label             695 non-null    object\n",
      " 3   stationReference  695 non-null    object\n",
      " 4   value             695 non-null    object\n",
      " 5   hours             695 non-null    object\n",
      " 6   minutes           695 non-null    object\n",
      " 7   time              695 non-null    object\n",
      "dtypes: object(8)\n",
      "memory usage: 48.9+ KB\n"
     ]
    }
   ],
   "source": [
    "df25_29short_grouped = df25_29short.groupby([\"date\", \"time\"])  # struggling to tell if I've done anything here!\n",
    "df25_29short.info()"
   ]
  },
  {
   "cell_type": "code",
   "execution_count": 26,
   "id": "2cf7bbb6",
   "metadata": {},
   "outputs": [
    {
     "data": {
      "text/html": [
       "<div>\n",
       "<style scoped>\n",
       "    .dataframe tbody tr th:only-of-type {\n",
       "        vertical-align: middle;\n",
       "    }\n",
       "\n",
       "    .dataframe tbody tr th {\n",
       "        vertical-align: top;\n",
       "    }\n",
       "\n",
       "    .dataframe thead th {\n",
       "        text-align: right;\n",
       "    }\n",
       "</style>\n",
       "<table border=\"1\" class=\"dataframe\">\n",
       "  <thead>\n",
       "    <tr style=\"text-align: right;\">\n",
       "      <th></th>\n",
       "      <th>dateTime</th>\n",
       "      <th>date</th>\n",
       "      <th>label</th>\n",
       "      <th>stationReference</th>\n",
       "      <th>value</th>\n",
       "      <th>hours</th>\n",
       "      <th>minutes</th>\n",
       "      <th>time</th>\n",
       "    </tr>\n",
       "  </thead>\n",
       "  <tbody>\n",
       "    <tr>\n",
       "      <th>11294</th>\n",
       "      <td>2024-02-25T00:45:00Z</td>\n",
       "      <td>2024-02-25</td>\n",
       "      <td>Cowley Bridge</td>\n",
       "      <td>45117</td>\n",
       "      <td>0.993</td>\n",
       "      <td>00</td>\n",
       "      <td>45</td>\n",
       "      <td>0045</td>\n",
       "    </tr>\n",
       "    <tr>\n",
       "      <th>14213</th>\n",
       "      <td>2024-02-25T00:15:00Z</td>\n",
       "      <td>2024-02-25</td>\n",
       "      <td>Cowley Bridge</td>\n",
       "      <td>45117</td>\n",
       "      <td>0.999</td>\n",
       "      <td>00</td>\n",
       "      <td>15</td>\n",
       "      <td>0015</td>\n",
       "    </tr>\n",
       "    <tr>\n",
       "      <th>14236</th>\n",
       "      <td>2024-02-25T00:30:00Z</td>\n",
       "      <td>2024-02-25</td>\n",
       "      <td>Cowley Bridge</td>\n",
       "      <td>45117</td>\n",
       "      <td>0.996</td>\n",
       "      <td>00</td>\n",
       "      <td>30</td>\n",
       "      <td>0030</td>\n",
       "    </tr>\n",
       "    <tr>\n",
       "      <th>14327</th>\n",
       "      <td>2024-02-25T00:00:00Z</td>\n",
       "      <td>2024-02-25</td>\n",
       "      <td>Cowley Bridge</td>\n",
       "      <td>45117</td>\n",
       "      <td>1.001</td>\n",
       "      <td>00</td>\n",
       "      <td>00</td>\n",
       "      <td>0000</td>\n",
       "    </tr>\n",
       "    <tr>\n",
       "      <th>26614</th>\n",
       "      <td>2024-02-25T01:45:00Z</td>\n",
       "      <td>2024-02-25</td>\n",
       "      <td>Cowley Bridge</td>\n",
       "      <td>45117</td>\n",
       "      <td>0.983</td>\n",
       "      <td>01</td>\n",
       "      <td>45</td>\n",
       "      <td>0145</td>\n",
       "    </tr>\n",
       "    <tr>\n",
       "      <th>...</th>\n",
       "      <td>...</td>\n",
       "      <td>...</td>\n",
       "      <td>...</td>\n",
       "      <td>...</td>\n",
       "      <td>...</td>\n",
       "      <td>...</td>\n",
       "      <td>...</td>\n",
       "      <td>...</td>\n",
       "    </tr>\n",
       "    <tr>\n",
       "      <th>292692</th>\n",
       "      <td>2024-02-29T11:15:00Z</td>\n",
       "      <td>2024-02-29</td>\n",
       "      <td>Yeoford</td>\n",
       "      <td>45137</td>\n",
       "      <td>0.634</td>\n",
       "      <td>11</td>\n",
       "      <td>15</td>\n",
       "      <td>1115</td>\n",
       "    </tr>\n",
       "    <tr>\n",
       "      <th>292754</th>\n",
       "      <td>2024-02-29T05:45:00Z</td>\n",
       "      <td>2024-02-29</td>\n",
       "      <td>Yeoford</td>\n",
       "      <td>45137</td>\n",
       "      <td>0.592</td>\n",
       "      <td>05</td>\n",
       "      <td>45</td>\n",
       "      <td>0545</td>\n",
       "    </tr>\n",
       "    <tr>\n",
       "      <th>293037</th>\n",
       "      <td>2024-02-29T05:00:00Z</td>\n",
       "      <td>2024-02-29</td>\n",
       "      <td>Yeoford</td>\n",
       "      <td>45137</td>\n",
       "      <td>0.586</td>\n",
       "      <td>05</td>\n",
       "      <td>00</td>\n",
       "      <td>0500</td>\n",
       "    </tr>\n",
       "    <tr>\n",
       "      <th>293166</th>\n",
       "      <td>2024-02-29T04:45:00Z</td>\n",
       "      <td>2024-02-29</td>\n",
       "      <td>Yeoford</td>\n",
       "      <td>45137</td>\n",
       "      <td>0.583</td>\n",
       "      <td>04</td>\n",
       "      <td>45</td>\n",
       "      <td>0445</td>\n",
       "    </tr>\n",
       "    <tr>\n",
       "      <th>293283</th>\n",
       "      <td>2024-02-29T06:00:00Z</td>\n",
       "      <td>2024-02-29</td>\n",
       "      <td>Yeoford</td>\n",
       "      <td>45137</td>\n",
       "      <td>0.584</td>\n",
       "      <td>06</td>\n",
       "      <td>00</td>\n",
       "      <td>0600</td>\n",
       "    </tr>\n",
       "  </tbody>\n",
       "</table>\n",
       "<p>695 rows × 8 columns</p>\n",
       "</div>"
      ],
      "text/plain": [
       "                    dateTime        date          label stationReference  \\\n",
       "11294   2024-02-25T00:45:00Z  2024-02-25  Cowley Bridge            45117   \n",
       "14213   2024-02-25T00:15:00Z  2024-02-25  Cowley Bridge            45117   \n",
       "14236   2024-02-25T00:30:00Z  2024-02-25  Cowley Bridge            45117   \n",
       "14327   2024-02-25T00:00:00Z  2024-02-25  Cowley Bridge            45117   \n",
       "26614   2024-02-25T01:45:00Z  2024-02-25  Cowley Bridge            45117   \n",
       "...                      ...         ...            ...              ...   \n",
       "292692  2024-02-29T11:15:00Z  2024-02-29        Yeoford            45137   \n",
       "292754  2024-02-29T05:45:00Z  2024-02-29        Yeoford            45137   \n",
       "293037  2024-02-29T05:00:00Z  2024-02-29        Yeoford            45137   \n",
       "293166  2024-02-29T04:45:00Z  2024-02-29        Yeoford            45137   \n",
       "293283  2024-02-29T06:00:00Z  2024-02-29        Yeoford            45137   \n",
       "\n",
       "        value hours minutes  time  \n",
       "11294   0.993    00      45  0045  \n",
       "14213   0.999    00      15  0015  \n",
       "14236   0.996    00      30  0030  \n",
       "14327   1.001    00      00  0000  \n",
       "26614   0.983    01      45  0145  \n",
       "...       ...   ...     ...   ...  \n",
       "292692  0.634    11      15  1115  \n",
       "292754  0.592    05      45  0545  \n",
       "293037  0.586    05      00  0500  \n",
       "293166  0.583    04      45  0445  \n",
       "293283  0.584    06      00  0600  \n",
       "\n",
       "[695 rows x 8 columns]"
      ]
     },
     "execution_count": 26,
     "metadata": {},
     "output_type": "execute_result"
    }
   ],
   "source": [
    "df25_29short_grouped.head()"
   ]
  },
  {
   "cell_type": "code",
   "execution_count": 27,
   "id": "19741ed3",
   "metadata": {},
   "outputs": [],
   "source": [
    "# plan, plot each location as a seperate line graph on the same axis.  What should happen is that when Yeoford and Upton \n",
    "# increase Cowley increases after a lag, however I don't know what that lag will be and therefore if it will be visible \n",
    "# within my data.\n",
    "# Need to find out how to plot against time.\n",
    "# Next steps could be to look at either rainfall data for the same period, or alternatively look at data from a longer period."
   ]
  },
  {
   "cell_type": "code",
   "execution_count": 28,
   "id": "c5247e6a",
   "metadata": {},
   "outputs": [],
   "source": [
    "df25_29short[\"dateTime\"] = pd.to_datetime(df25_29short[\"dateTime\"])"
   ]
  },
  {
   "cell_type": "code",
   "execution_count": 29,
   "id": "3458aff6",
   "metadata": {},
   "outputs": [
    {
     "name": "stdout",
     "output_type": "stream",
     "text": [
      "<class 'pandas.core.frame.DataFrame'>\n",
      "Index: 695 entries, 11294 to 293283\n",
      "Data columns (total 8 columns):\n",
      " #   Column            Non-Null Count  Dtype              \n",
      "---  ------            --------------  -----              \n",
      " 0   dateTime          695 non-null    datetime64[ns, UTC]\n",
      " 1   date              695 non-null    object             \n",
      " 2   label             695 non-null    object             \n",
      " 3   stationReference  695 non-null    object             \n",
      " 4   value             695 non-null    object             \n",
      " 5   hours             695 non-null    object             \n",
      " 6   minutes           695 non-null    object             \n",
      " 7   time              695 non-null    object             \n",
      "dtypes: datetime64[ns, UTC](1), object(7)\n",
      "memory usage: 48.9+ KB\n"
     ]
    }
   ],
   "source": [
    "df25_29short.info()"
   ]
  },
  {
   "cell_type": "code",
   "execution_count": 30,
   "id": "5f3c0388",
   "metadata": {},
   "outputs": [
    {
     "data": {
      "image/png": "[encoded data removed]",
      "text/plain": [
       "<Figure size 640x480 with 1 Axes>"
      ]
     },
     "metadata": {},
     "output_type": "display_data"
    }
   ],
   "source": [
    "df25_29short.plot(y=\"value\", x=\"dateTime\", kind='scatter');\n",
    "# OK, the data time bit is not quite right, but I get something out!"
   ]
  },
  {
   "cell_type": "code",
   "execution_count": 31,
   "id": "91f15c1b",
   "metadata": {},
   "outputs": [
    {
     "name": "stdout",
     "output_type": "stream",
     "text": [
      "<class 'pandas.core.frame.DataFrame'>\n",
      "Index: 277 entries, 11294 to 408062\n",
      "Data columns (total 8 columns):\n",
      " #   Column            Non-Null Count  Dtype              \n",
      "---  ------            --------------  -----              \n",
      " 0   dateTime          277 non-null    datetime64[ns, UTC]\n",
      " 1   date              277 non-null    object             \n",
      " 2   label             277 non-null    object             \n",
      " 3   stationReference  277 non-null    object             \n",
      " 4   value             277 non-null    object             \n",
      " 5   hours             277 non-null    object             \n",
      " 6   minutes           277 non-null    object             \n",
      " 7   time              277 non-null    object             \n",
      "dtypes: datetime64[ns, UTC](1), object(7)\n",
      "memory usage: 19.5+ KB\n"
     ]
    }
   ],
   "source": [
    "# Do I need to do something to split the locations out again?\n",
    "\n",
    "mask_for_cowley = df25_29short[\"stationReference\"] == \"45117\"\n",
    "dfcowley = df25_29short[mask_for_cowley]\n",
    "dfcowley.info()"
   ]
  },
  {
   "cell_type": "code",
   "execution_count": 32,
   "id": "4b0d6c35",
   "metadata": {},
   "outputs": [
    {
     "data": {
      "image/png": "[encoded data removed]",
      "text/plain": [
       "<Figure size 640x480 with 1 Axes>"
      ]
     },
     "metadata": {},
     "output_type": "display_data"
    }
   ],
   "source": [
    "dfcowley.plot(y=\"value\", x=\"dateTime\", kind='scatter');\n",
    "# bother, that doesn't look like a nice linear set of plots with data recorded at regular intevals... that isn't good."
   ]
  },
  {
   "cell_type": "code",
   "execution_count": 33,
   "id": "1d32e4f1",
   "metadata": {},
   "outputs": [],
   "source": [
    "# split out he other two and see if they look any more like I expect.\n",
    "mask_for_upton = df25_29short[\"stationReference\"] == \"45136\"\n",
    "dfupton = df25_29short[mask_for_upton]\n",
    "mask_for_yeoford = df25_29short[\"stationReference\"] == \"45137\"\n",
    "dfyeoford = df25_29short[mask_for_yeoford]"
   ]
  },
  {
   "cell_type": "code",
   "execution_count": 34,
   "id": "d61acdae",
   "metadata": {},
   "outputs": [
    {
     "data": {
      "image/png": "[encoded data removed]",
      "text/plain": [
       "<Figure size 640x480 with 1 Axes>"
      ]
     },
     "metadata": {},
     "output_type": "display_data"
    }
   ],
   "source": [
    "dfupton.plot(y=\"value\", x=\"dateTime\", kind='scatter');"
   ]
  },
  {
   "cell_type": "code",
   "execution_count": 35,
   "id": "1b41fc78",
   "metadata": {},
   "outputs": [
    {
     "data": {
      "image/png": "[encoded data removed]",
      "text/plain": [
       "<Figure size 640x480 with 1 Axes>"
      ]
     },
     "metadata": {},
     "output_type": "display_data"
    }
   ],
   "source": [
    "dfyeoford.plot(y=\"value\", x=\"dateTime\", kind='scatter');"
   ]
  },
  {
   "cell_type": "code",
   "execution_count": 36,
   "id": "1f63194f",
   "metadata": {},
   "outputs": [],
   "source": [
    "# OK, none of those look like I expected, or hoped, that isn't good.  Back to the drawing baord in terms of plotting value \n",
    "# against date/time I think"
   ]
  },
  {
   "cell_type": "code",
   "execution_count": 37,
   "id": "7e427ee3",
   "metadata": {},
   "outputs": [
    {
     "ename": "NameError",
     "evalue": "name 'plt' is not defined",
     "output_type": "error",
     "traceback": [
      "\u001b[1;31m---------------------------------------------------------------------------\u001b[0m",
      "\u001b[1;31mNameError\u001b[0m                                 Traceback (most recent call last)",
      "Cell \u001b[1;32mIn[37], line 1\u001b[0m\n\u001b[1;32m----> 1\u001b[0m fig, ax \u001b[38;5;241m=\u001b[39m plt\u001b[38;5;241m.\u001b[39msubplots(figsize\u001b[38;5;241m=\u001b[39m(\u001b[38;5;241m5\u001b[39m, \u001b[38;5;241m5\u001b[39m))\n\u001b[0;32m      2\u001b[0m ax\u001b[38;5;241m.\u001b[39mplot(dfyeoford[\u001b[38;5;124m\"\u001b[39m\u001b[38;5;124mdateTime\u001b[39m\u001b[38;5;124m\"\u001b[39m], dfyeoford[\u001b[38;5;124m\"\u001b[39m\u001b[38;5;124mvalue\u001b[39m\u001b[38;5;124m\"\u001b[39m])\n\u001b[0;32m      3\u001b[0m plt\u001b[38;5;241m.\u001b[39mshow()\n",
      "\u001b[1;31mNameError\u001b[0m: name 'plt' is not defined"
     ]
    }
   ],
   "source": [
    "fig, ax = plt.subplots(figsize=(5, 5))\n",
    "ax.plot(dfyeoford[\"dateTime\"], dfyeoford[\"value\"])\n",
    "plt.show()\n",
    "# well, that looks no better!  What am I doing to my data?"
   ]
  },
  {
   "cell_type": "code",
   "execution_count": null,
   "id": "1760416e",
   "metadata": {},
   "outputs": [],
   "source": [
    "dfyeoford.head(20)"
   ]
  },
  {
   "cell_type": "code",
   "execution_count": null,
   "id": "780f9d36",
   "metadata": {},
   "outputs": [],
   "source": [
    "#OK, I need to sort my data!"
   ]
  },
  {
   "cell_type": "code",
   "execution_count": null,
   "id": "e8e0f433",
   "metadata": {},
   "outputs": [],
   "source": [
    "dfyeoford = dfyeoford.sort_values(['date', 'hours', \"minutes\"], ascending=[True, True, True])"
   ]
  },
  {
   "cell_type": "code",
   "execution_count": null,
   "id": "35712725",
   "metadata": {},
   "outputs": [],
   "source": [
    "fig, ax = plt.subplots(figsize=(10, 5))\n",
    "ax.plot(dfyeoford[\"dateTime\"], dfyeoford[\"value\"])\n",
    "plt.show()\n",
    "# that looks better!  But the long straight lines show that I have lots of missing data"
   ]
  },
  {
   "cell_type": "code",
   "execution_count": null,
   "id": "71486c52",
   "metadata": {},
   "outputs": [],
   "source": []
  },
  {
   "cell_type": "code",
   "execution_count": null,
   "id": "46a9b958",
   "metadata": {},
   "outputs": [],
   "source": []
  },
  {
   "cell_type": "code",
   "execution_count": null,
   "id": "cc4cb875",
   "metadata": {},
   "outputs": [],
   "source": []
  },
  {
   "cell_type": "code",
   "execution_count": null,
   "id": "963a37c7",
   "metadata": {},
   "outputs": [],
   "source": []
  },
  {
   "cell_type": "code",
   "execution_count": null,
   "id": "51a6181c",
   "metadata": {},
   "outputs": [],
   "source": []
  },
  {
   "cell_type": "code",
   "execution_count": null,
   "id": "660583ef",
   "metadata": {},
   "outputs": [],
   "source": []
  },
  {
   "cell_type": "code",
   "execution_count": null,
   "id": "43b1ff82",
   "metadata": {},
   "outputs": [],
   "source": []
  }
 ],
 "metadata": {
  "kernelspec": {
   "display_name": "Python 3 (ipykernel)",
   "language": "python",
   "name": "python3"
  },
  "language_info": {
   "codemirror_mode": {
    "name": "ipython",
    "version": 3
   },
   "file_extension": ".py",
   "mimetype": "text/x-python",
   "name": "python",
   "nbconvert_exporter": "python",
   "pygments_lexer": "ipython3",
   "version": "3.11.5"
  }
 },
 "nbformat": 4,
 "nbformat_minor": 5
}
